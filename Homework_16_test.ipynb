{
  "cells": [
    {
      "cell_type": "markdown",
      "metadata": {
        "id": "view-in-github",
        "colab_type": "text"
      },
      "source": [
        "<a href=\"https://colab.research.google.com/github/Josephrod20/matrix/blob/main/Homework_16_test.ipynb\" target=\"_parent\"><img src=\"https://colab.research.google.com/assets/colab-badge.svg\" alt=\"Open In Colab\"/></a>"
      ]
    },
    {
      "cell_type": "markdown",
      "metadata": {
        "id": "UM9fwa7uDROo"
      },
      "source": [
        "Before you turn this problem in, make sure everything runs as expected. First, **restart the kernel** (in the menubar, select Kernel$\\rightarrow$Restart) and then **run all cells** (in the menubar, select Cell$\\rightarrow$Run All).\n",
        "\n",
        "Make sure you fill in any place that says `YOUR CODE HERE` or \"YOUR ANSWER HERE\", as well as your name and collaborators below:"
      ]
    },
    {
      "cell_type": "code",
      "execution_count": null,
      "metadata": {
        "id": "cP46r4htDROr"
      },
      "outputs": [],
      "source": [
        "NAME = \"\"\n",
        "COLLABORATORS = \"\""
      ]
    },
    {
      "cell_type": "markdown",
      "metadata": {
        "id": "_HxVJ25tDROs"
      },
      "source": [
        "---"
      ]
    },
    {
      "cell_type": "markdown",
      "metadata": {
        "deletable": false,
        "editable": false,
        "nbgrader": {
          "grade": false,
          "grade_id": "cell-94263b50821e127f",
          "locked": true,
          "schema_version": 3,
          "solution": false
        },
        "id": "ktE_ntFODROs"
      },
      "source": [
        "# CSE 30 Winter 2022 - Homework 16\n",
        "\n",
        "Copyright Luca de Alfaro, 2020.  License: [CC-BY-NC-ND](https://creativecommons.org/licenses/by-nc-nd/4.0/).\n",
        "\n",
        "\n",
        "### Instructions\n",
        "\n",
        "Please disregard the YOUR NAME and COLLABORATORS above.  They are put there atomatically by the grading tool.\n",
        "You can find instructions on how to work on a homework on Canvas.  Here is a short summary: \n",
        "\n",
        "### Submitting your work\n",
        "\n",
        "To submit your work: \n",
        "\n",
        "* First, click on \"Runtime > Restart and run all\", and check that you get no errors.  This enables you to catch any error you might have introduced, and not noticed, due to your running cells out of order. \n",
        "* Second, download the notebook in .ipynb format (File > Download .ipynb) and upload the .ipynb file to [this form](https://docs.google.com/forms/d/e/1FAIpQLSc8Mdao4KHmzgnVO4UHmS-pnyjuDKDkwusAcJZxbIPmn8vlEA/viewform?usp=sf_link).  This homework is due at **11:59pm on Friday, 11 March 2022**.\n",
        "\n",
        "You can submit multiple times; the last submission before the deadline is the one that counts.\n",
        "\n",
        "### Homework format\n",
        "\n",
        "For each question in this notebook, there is: \n",
        "\n",
        "* A text description of the problem. \n",
        "* One or more places where you have to insert your solution.  You need to complete every place marked: \n",
        "\n",
        "    `# YOUR CODE HERE`\n",
        "    \n",
        "    and you should not modify any other place. \n",
        "* One or more test cells.  Each cell is worth some number of points, marked at the top.  You should not modify these tests cells.  The tests pass if no error is printed out: when there is a statement that says, for instance: \n",
        "\n",
        "    `assert x == 2`\n",
        "    \n",
        "    then the test passes if `x` has value 2, and fails otherwise.  You can insert a `print(x)` (for this case!) somewhere if you want to debug your work; it is up to you.  \n",
        "    \n",
        "### Notes:\n",
        "\n",
        "* Your code will be tested both according to the tests you can see (the `assert` statements you can see), _and_ additional tests.  This prevents you from hard-coding the answer to the particular questions posed.  Your code should solve the _general_ intended case, not hard-code the particular answer for the values used in the tests. \n",
        "\n",
        "* **Please do not delete or add cells!** The test is autograded, and if you modify the test by adding or deleting cells, even if you re-add cells you delete, you may not receive credit. \n",
        "\n",
        "* **Please do not import modules that are not part of the [standard library](https://docs.python.org/3/library/index.html).** You do not need any, and they will likely not available in the grading environment, leading your code to fail. \n",
        "\n",
        "* **If you are inactive too long, your notebook might get disconnected from the back-end.** Your work is never lost, but you have to re-run all the cells before you continue. \n",
        "\n",
        "* You can write out print statements in your code, to help you test/debug it. But remember: the code is graded on the basis of what it outputs or returns, not on the basis of what it prints.\n",
        "\n",
        "* **TAs and tutors have access to this notebook,** so if you let them know you need their help, they can look at your work and give you advice. \n",
        "\n",
        "### Grading\n",
        "\n",
        "Each cell where there are tests is worth a certain number of points.  You get the points allocated to a cell only if you pass _all_ the tests in the cell. \n",
        "\n",
        "The tests in a cell include both the tests you can see, and other, similar, tests that are used for grading only.  Therefore, you cannot hard-code the solutions: you really have to solve the essence of the problem, to receive the points in a cell. \n",
        "\n",
        "### Code of Conduct\n",
        "\n",
        "* Work on the test yourself, alone. \n",
        "* You can search documentation on the web, on sites such as the Python documentation sites, Stackoverflow, and similar, and you can use the results. \n",
        "* You cannot share your work with others or solicit their help."
      ]
    },
    {
      "cell_type": "markdown",
      "metadata": {
        "deletable": false,
        "editable": false,
        "nbgrader": {
          "grade": false,
          "grade_id": "cell-34d3e7c253e0c37e",
          "locked": true,
          "schema_version": 3,
          "solution": false
        },
        "id": "vx63XYd1DROu"
      },
      "source": [
        "----\n",
        "\n",
        "## From Sudoku to SAT\n",
        "\n",
        "Sudoku is a search problem.  SAT is a prototypical search problem, and more precisely, SAT is perhaps the most basic of the _NP-Complete_ problems: the problems where, if you could only _guess_ the solution, you could _verify_ that it is truly a solution in time that is polynomial in the size of the problem (in case of SAT, the sum of the length of all the clauses). \n",
        "\n",
        "This opens the question: can we solve Sudoku, rather than by writing a special-purpose Sudoku solver, by translating the Sudoku problem to SAT, and using an off-the-shelf SAT solver?  There is a lot of research that went into developing efficient SAT solvers: would it be more efficient to use a custom solver, as we did, or to translate and rely on an off-the-shelf SAT solver?  Let's experiment. "
      ]
    },
    {
      "cell_type": "markdown",
      "metadata": {
        "deletable": false,
        "editable": false,
        "nbgrader": {
          "grade": false,
          "grade_id": "cell-15eefbe643b16ee5",
          "locked": true,
          "schema_version": 3,
          "solution": false
        },
        "id": "ynTl1_zPDROv"
      },
      "source": [
        "### Installing a SAT solver library"
      ]
    },
    {
      "cell_type": "markdown",
      "metadata": {
        "deletable": false,
        "editable": false,
        "nbgrader": {
          "grade": false,
          "grade_id": "cell-e15cc35a1c77b80d",
          "locked": true,
          "schema_version": 3,
          "solution": false
        },
        "id": "a2N5RQuCDROv"
      },
      "source": [
        "Let us install our library for SAT solvers.  Here is a link to the [pysat](https://pysathq.github.io/usage.html) documentation. "
      ]
    },
    {
      "cell_type": "code",
      "execution_count": null,
      "metadata": {
        "deletable": false,
        "editable": false,
        "nbgrader": {
          "grade": false,
          "grade_id": "cell-aff8b789d9842c4d",
          "locked": true,
          "schema_version": 3,
          "solution": false
        },
        "id": "YIvB5CjaDROw",
        "outputId": "271ea9f7-cf31-43dc-f248-afec52b62000",
        "colab": {
          "base_uri": "https://localhost:8080/"
        }
      },
      "outputs": [
        {
          "output_type": "stream",
          "name": "stdout",
          "text": [
            "Collecting python-sat\n",
            "  Downloading python_sat-0.1.7.dev16-cp37-cp37m-manylinux2010_x86_64.whl (1.8 MB)\n",
            "\u001b[K     |████████████████████████████████| 1.8 MB 7.9 MB/s \n",
            "\u001b[?25hRequirement already satisfied: six in /usr/local/lib/python3.7/dist-packages (from python-sat) (1.15.0)\n",
            "Installing collected packages: python-sat\n",
            "Successfully installed python-sat-0.1.7.dev16\n"
          ]
        }
      ],
      "source": [
        "try:\n",
        "    import pysat\n",
        "except:\n",
        "    !pip install python-sat\n",
        "    import pysat\n"
      ]
    },
    {
      "cell_type": "markdown",
      "metadata": {
        "deletable": false,
        "editable": false,
        "nbgrader": {
          "grade": false,
          "grade_id": "cell-53ebf65bd5c63d98",
          "locked": true,
          "schema_version": 3,
          "solution": false
        },
        "id": "ujOQywbPDROw"
      },
      "source": [
        "Let us check that our solver works.  The Glucose solver is one of the solvers. "
      ]
    },
    {
      "cell_type": "code",
      "execution_count": null,
      "metadata": {
        "deletable": false,
        "editable": false,
        "nbgrader": {
          "grade": false,
          "grade_id": "cell-5969e2b9880c9cde",
          "locked": true,
          "schema_version": 3,
          "solution": false
        },
        "id": "7SlJyVx3DROx",
        "outputId": "a48c4932-c1a3-44a9-845f-c35064eb7b6b",
        "colab": {
          "base_uri": "https://localhost:8080/"
        }
      },
      "outputs": [
        {
          "output_type": "stream",
          "name": "stdout",
          "text": [
            "True\n",
            "[-1, -2, -3]\n"
          ]
        }
      ],
      "source": [
        "from pysat.solvers import Glucose3\n",
        "g = Glucose3()\n",
        "g.add_clause([-1, 2])\n",
        "g.add_clause([-2, 3])\n",
        "print(g.solve())\n",
        "print(g.get_model())\n",
        "g.delete()\n"
      ]
    },
    {
      "cell_type": "markdown",
      "metadata": {
        "deletable": false,
        "editable": false,
        "nbgrader": {
          "grade": false,
          "grade_id": "cell-f27b373a697746e6",
          "locked": true,
          "schema_version": 3,
          "solution": false
        },
        "id": "v1aHm_rfDROx"
      },
      "source": [
        "Rather than deleting the solver after use with `g.delete()`, it is better to use the solver within a `with` clause: this avoids the problem of forgetting to delete the solver after use. "
      ]
    },
    {
      "cell_type": "code",
      "execution_count": null,
      "metadata": {
        "deletable": false,
        "editable": false,
        "nbgrader": {
          "grade": false,
          "grade_id": "cell-4aaece271e6a53c2",
          "locked": true,
          "schema_version": 3,
          "solution": false
        },
        "id": "UWF4z-f0DROy",
        "outputId": "83cde91f-05e0-4b3b-bfc1-f8c8c757178e",
        "colab": {
          "base_uri": "https://localhost:8080/"
        }
      },
      "outputs": [
        {
          "output_type": "stream",
          "name": "stdout",
          "text": [
            "True\n",
            "[-1, -2, -3]\n"
          ]
        }
      ],
      "source": [
        "with Glucose3() as g:\n",
        "    g.add_clause([-1, 2])\n",
        "    g.add_clause([-2, 3])\n",
        "    print(g.solve())\n",
        "    print(g.get_model())\n"
      ]
    },
    {
      "cell_type": "markdown",
      "metadata": {
        "deletable": false,
        "editable": false,
        "nbgrader": {
          "grade": false,
          "grade_id": "cell-6527f161d077599b",
          "locked": true,
          "schema_version": 3,
          "solution": false
        },
        "id": "RSG9ng8aDROy"
      },
      "source": [
        "There are also Glucose4, and Minisat22.  They all work in the same way. "
      ]
    },
    {
      "cell_type": "code",
      "execution_count": null,
      "metadata": {
        "deletable": false,
        "editable": false,
        "nbgrader": {
          "grade": false,
          "grade_id": "cell-2a74bff834cc9d4d",
          "locked": true,
          "schema_version": 3,
          "solution": false
        },
        "id": "PJ9qcFcsDROy",
        "outputId": "56516946-320d-4137-fa18-6662c76b9b3f",
        "colab": {
          "base_uri": "https://localhost:8080/"
        }
      },
      "outputs": [
        {
          "output_type": "stream",
          "name": "stdout",
          "text": [
            "True\n",
            "[-1, -2, -3]\n"
          ]
        }
      ],
      "source": [
        "from pysat.solvers import Glucose4, Minisat22\n",
        "with Minisat22() as g:\n",
        "    g.add_clause([-1, 2])\n",
        "    g.add_clause([-2, 3])\n",
        "    print(g.solve())\n",
        "    print(g.get_model())\n"
      ]
    },
    {
      "cell_type": "markdown",
      "metadata": {
        "deletable": false,
        "editable": false,
        "nbgrader": {
          "grade": false,
          "grade_id": "cell-ebd0a7b432694762",
          "locked": true,
          "schema_version": 3,
          "solution": false
        },
        "id": "WJC_5IBGDROz"
      },
      "source": [
        "## A `SudokuViaSAT` class. \n",
        "\n",
        "The first thing we do is to write a Sudoku class that can represent a Sudoku problem to be solved.  Unlike our previosu representation, each cell here will contain either a digit 1..9, or 0, where 0 represents an unknown digit. \n",
        "We do not need to represent our solver's state of knowledge in terms of sets of digits, since the seach for a solution will be done in the SAT solver. \n",
        "\n",
        "The class has three methods, which we will fill in later: one for translating the Sudoku into a SAT instance, one for solving the SAT instance, and another one for using the solution to the SAT instance to fill in the unspecified cells of the Sudoku problem. \n",
        "\n",
        "Contrary to the previous approach, we keep the state of the board as a numpy array, of size 9 x 9; this will make indexing in the array a little bit more pleasant. \n",
        "The reason we could not use this representation earlier is that we wanted to associate with each cell a _set_ of digits, and sets are not pleasant to represent in Numpy; single digits are. "
      ]
    },
    {
      "cell_type": "code",
      "execution_count": null,
      "metadata": {
        "deletable": false,
        "nbgrader": {
          "grade": false,
          "grade_id": "cell-544f7f15c1b64ec2",
          "locked": false,
          "schema_version": 3,
          "solution": true
        },
        "id": "5O1_Dey-DROz"
      },
      "outputs": [],
      "source": [
        "import numpy as np\n",
        "\n",
        "class SudokuViaSAT(object):\n",
        "\n",
        "    def __init__(self, sudoku_string):\n",
        "        \"\"\"\n",
        "        @param sudoku_string: an 81-long digit string: 0 represents an unknown\n",
        "            digit, and 1..9 represent the respective digit.\n",
        "        \"\"\"\n",
        "        assert len(sudoku_string) > 80\n",
        "        self.board = np.zeros((9, 9), dtype=np.uint8)\n",
        "        for i in range(9):\n",
        "            for j in range(9):\n",
        "                self.board[i, j] = int(sudoku_string[i * 9 + j])\n",
        "        self.sat = None # This will be the SAT instance.\n",
        "        # Perform here any other initialization you think you need.\n",
        "        # YOUR CODE HERE\n",
        "\n",
        "    def show(self):\n",
        "        \"\"\"Prints out the board.\"\"\"\n",
        "        print(\"+---+---+---+\")\n",
        "        for i in range(9):\n",
        "            r = '|'\n",
        "            for j in range(9):\n",
        "                r += \".\" if self.board[i, j] == 0 else str(self.board[i, j])\n",
        "                if (j + 1) % 3 == 0:\n",
        "                    r += \"|\"\n",
        "            print(r)\n",
        "            if (i + 1) % 3 == 0:\n",
        "                print(\"+---+---+---+\")\n"
      ]
    },
    {
      "cell_type": "code",
      "execution_count": null,
      "metadata": {
        "deletable": false,
        "editable": false,
        "nbgrader": {
          "grade": false,
          "grade_id": "cell-a9381a141dd36a44",
          "locked": true,
          "schema_version": 3,
          "solution": false
        },
        "id": "Ovzn2kqgDRO0"
      },
      "outputs": [],
      "source": [
        "problem = \"000000061350000000400050000020000800000601000000700000000080200600400000007000010\"\n",
        "sd = SudokuViaSAT(problem)\n",
        "sd.show()\n"
      ]
    },
    {
      "cell_type": "markdown",
      "metadata": {
        "deletable": false,
        "editable": false,
        "nbgrader": {
          "grade": false,
          "grade_id": "cell-abd5fa8c47c1156d",
          "locked": true,
          "schema_version": 3,
          "solution": false
        },
        "id": "g5-1ueaODRO0"
      },
      "source": [
        "## Variables\n",
        "\n",
        "We base our trasnslation of Sudoku into SAT on variables $p_{dij}$, where $p_{dij}$ expresses the fact that the digit $d$ appears at coordinates $(i, j)$. \n",
        "Since SAT solvers represent a variable by an integer, we will have that $p_{dij}$ is encoded simply using the integer $dij$ (in decimal notation), and the literal $\\bar{p}_{dij}$ will be encoded as $-dij$. \n",
        "\n",
        "For example, to express that digit 3 appears at coordinates 6, 7, we use the literal 367.  To express the negation of this, $\\bar{p}_{367}$, that is, that digit 3 _does not_ appear at coordinates 6, 7, we use the literal -367. \n",
        "\n",
        "We thus start by writing two helper functions, `encode_variable` and `decode_variable`, that go from $d, i, j$ to the corresponding integer, and vice versa.  \n",
        "We write one of them for you, and we ask you to write the other."
      ]
    },
    {
      "cell_type": "code",
      "execution_count": null,
      "metadata": {
        "deletable": false,
        "editable": false,
        "nbgrader": {
          "grade": false,
          "grade_id": "cell-c927ed1f885fd6a6",
          "locked": true,
          "schema_version": 3,
          "solution": false
        },
        "id": "DfZmCL6hDRO0"
      },
      "outputs": [],
      "source": [
        "def encode_variable(d, i, j):\n",
        "    \"\"\"This function creates the variable (the integer) representing the\n",
        "    fact that digit d appears in position i, j.\n",
        "    Of course, to obtain the complement variable, you can just negate\n",
        "    (take the negative) of the returned integer.\n",
        "    Note that it must be: 1 <= d <= 9, 0 <= i <= 8, 0 <= j <= 8.\"\"\"\n",
        "    assert 1 <= d <= 9\n",
        "    assert 0 <= i < 9\n",
        "    assert 0 <= j < 9\n",
        "    # The int() below seems useless, but it is not.  If d is a numpy.uint8,\n",
        "    # as an element of the board is, this int() ensures that the generated\n",
        "    # literal is a normal Python integer, as the SAT solvers expect.\n",
        "    return int(d * 100 + i * 10 + j)\n"
      ]
    },
    {
      "cell_type": "code",
      "execution_count": null,
      "metadata": {
        "deletable": false,
        "editable": false,
        "nbgrader": {
          "grade": false,
          "grade_id": "cell-64dcab3ae185dcff",
          "locked": true,
          "schema_version": 3,
          "solution": false
        },
        "id": "tg35jupwDRO1"
      },
      "outputs": [],
      "source": [
        "# Let's define a testing helper.\n",
        "\n",
        "def check_equal(x, y, msg=None):\n",
        "    if x != y:\n",
        "        if msg is None:\n",
        "            print(\"Error:\")\n",
        "        else:\n",
        "            print(\"Error in\", msg, \":\")\n",
        "        print(\"    Your answer was:\", x)\n",
        "        print(\"    Correct answer: \", y)\n",
        "    assert x == y, \"%r and %r are different\" % (x, y)\n"
      ]
    },
    {
      "cell_type": "code",
      "execution_count": null,
      "metadata": {
        "deletable": false,
        "editable": false,
        "nbgrader": {
          "grade": false,
          "grade_id": "cell-ae889d901ccfc5aa",
          "locked": true,
          "schema_version": 3,
          "solution": false
        },
        "id": "VgCStJT6DRO1"
      },
      "outputs": [],
      "source": [
        "check_equal(encode_variable(3, 6, 7), 367)\n"
      ]
    },
    {
      "cell_type": "markdown",
      "metadata": {
        "deletable": false,
        "editable": false,
        "nbgrader": {
          "grade": false,
          "grade_id": "cell-ffa2eb9646c2a7fa",
          "locked": true,
          "schema_version": 3,
          "solution": false
        },
        "id": "x7yBYGQzDRO2"
      },
      "source": [
        "It's your turn now to write a function `decode_variable` that is the opposite of `encode_variable`. "
      ]
    },
    {
      "cell_type": "code",
      "execution_count": null,
      "metadata": {
        "deletable": false,
        "nbgrader": {
          "grade": false,
          "grade_id": "cell-549959a68f2b85d4",
          "locked": false,
          "schema_version": 3,
          "solution": true
        },
        "id": "6df37SR7DRO2"
      },
      "outputs": [],
      "source": [
        "def decode_variable(p):\n",
        "    \"\"\"Given an integer constructed as by _create_prediate above,\n",
        "    returns the tuple (d, i, j), where d is the digit, and i, j are\n",
        "    the cells where the digit is.  Returns None if the integer is out of\n",
        "    range.\n",
        "    Note that it must be: 1 <= d <= 9, 0 <= i <= 8, 0 <= j <= 8.\n",
        "    If this does not hold, return None.\n",
        "    Also return None if p is not in the range from 100, to 988 (the\n",
        "    highest and lowest values that p can assume).\n",
        "    Hint: modulo arithmetic via %, // is useful here!\"\"\"\n",
        "    # YOUR CODE HERE\n"
      ]
    },
    {
      "cell_type": "markdown",
      "metadata": {
        "deletable": false,
        "editable": false,
        "nbgrader": {
          "grade": false,
          "grade_id": "cell-fe38e522d03ccb0c",
          "locked": true,
          "schema_version": 3,
          "solution": false
        },
        "id": "W91wiBchDRO3"
      },
      "source": [
        "Let's test this. \n",
        "\n"
      ]
    },
    {
      "cell_type": "code",
      "execution_count": null,
      "metadata": {
        "deletable": false,
        "editable": false,
        "nbgrader": {
          "grade": true,
          "grade_id": "cell-de5ad0dc9c87ce81",
          "locked": true,
          "points": 10,
          "schema_version": 3,
          "solution": false
        },
        "id": "KzdG7ApsDRO3"
      },
      "outputs": [],
      "source": [
        "for d in range(1, 10):\n",
        "    for i in range(9):\n",
        "        for j in range(9):\n",
        "            r = decode_variable(encode_variable(d, i, j))\n",
        "            check_equal((d, i, j), r)\n",
        "\n"
      ]
    },
    {
      "cell_type": "markdown",
      "metadata": {
        "deletable": false,
        "editable": false,
        "nbgrader": {
          "grade": false,
          "grade_id": "cell-cbecc904d5c47d2c",
          "locked": true,
          "schema_version": 3,
          "solution": false
        },
        "id": "3KZAF-3LDRO4"
      },
      "source": [
        "## Creating the clauses that represent a generic Sudoku problem\n",
        "\n",
        "The key to translating Sudoku to SAT consists in producing a list of clauses that encodes the rules of Sudoku.  We will create list of clauses expressing the following. \n",
        "Below, we have $1 \\leq d \\leq 9$, and $0 \\leq i, j \\leq 8$. \n",
        "\n",
        "1. At each cell $i, j$ at least one digit $d$ must appear.\n",
        "2. At each cell $i, j$, at most one digit $d$ must appear. \n",
        "* If a digit $d$ appears at cell $i, j$, the same digit $d$ will not appear elsewhere on: \n",
        "    3. The same column. \n",
        "    4. The same row. \n",
        "    5. The same 3x3 Sudoku block. \n",
        "\n",
        "Note that conditions 1 and 2 are obvious to a human, and were encoded implicitly in our Sudoku solver.  Our SAT solver, however, has no idea of what a variable like $p_{367}$ means, or that digit 3 appears in cell 6, 7; therefore, we must teach it that exactly one digit apppears in each cell, via clauses. \n",
        "\n",
        "As an example, you can say that at at least one digit appears in cell 6, 7 via the clause: \n",
        "\n",
        "$$\n",
        "[p_{167}, p_{267}, \\ldots, p_{967}]\n",
        "$$\n",
        "\n",
        "and you can say that if 2 appears in cell 67, then 3 does not apper in that same cell, via: \n",
        "\n",
        "$$\n",
        "[\\bar{p}_{267}, \\bar{p}_{367}] \\; . \n",
        "$$\n",
        "\n",
        "In literals ready for SAT, the latter is [-267, -367]. \n",
        "Similarly, to say that if a 2 appears at 6, 7, it does not appear on the same row at 6, 8, you would use the clause [-267, -268]. \n",
        "\n",
        "You will be creating these list of clauses below, for the cases 1, 2, 3, 4, 5 above. "
      ]
    },
    {
      "cell_type": "markdown",
      "metadata": {
        "deletable": false,
        "editable": false,
        "nbgrader": {
          "grade": false,
          "grade_id": "cell-ca2dd717c732e45f",
          "locked": true,
          "schema_version": 3,
          "solution": false
        },
        "id": "IzwgRS6YDRO4"
      },
      "source": [
        "### 1. Cells contain at least one digit\n",
        "\n",
        "For each cell $i, j$, you have to create a clause stating that at least one $p_{dij}$ is true, for some $d$.  You can easily build it as the disjunction $p_{1ij} \\vee p_{2ij} \\vee \\cdots \\vee p_{9ij}$, corresponding to the clause:  \n",
        "\n",
        "$$\n",
        "[p_{1ij}, p_{2ij}, \\ldots, p_{9ij}] \\; . \n",
        "$$\n",
        "\n",
        "Of course, to generate the clause for the SAT solver, you have to encode the variables $p_{1ij}, p_{2ij}, \\ldots, p_{9ij}$ using `encode_variable`."
      ]
    },
    {
      "cell_type": "code",
      "execution_count": null,
      "metadata": {
        "deletable": false,
        "nbgrader": {
          "grade": false,
          "grade_id": "cell-62e8e10c5f6ad251",
          "locked": false,
          "schema_version": 3,
          "solution": true
        },
        "id": "Iocn-qK7DRO4"
      },
      "outputs": [],
      "source": [
        "def every_cell_contains_at_least_one_digit():\n",
        "    \"\"\"Returns a list of clauses, stating that every cell must contain\n",
        "    at least one digit.\"\"\"\n",
        "    # YOUR CODE HERE\n"
      ]
    },
    {
      "cell_type": "markdown",
      "metadata": {
        "deletable": false,
        "editable": false,
        "nbgrader": {
          "grade": false,
          "grade_id": "cell-2f81606473f887ea",
          "locked": true,
          "schema_version": 3,
          "solution": false
        },
        "id": "8q81rPFDDRO5"
      },
      "source": [
        "We test it with help of a SAT solver. "
      ]
    },
    {
      "cell_type": "code",
      "execution_count": null,
      "metadata": {
        "deletable": false,
        "editable": false,
        "nbgrader": {
          "grade": true,
          "grade_id": "cell-c33be26c623c5807",
          "locked": true,
          "points": 10,
          "schema_version": 3,
          "solution": false
        },
        "id": "HyXXbyuRDRO5"
      },
      "outputs": [],
      "source": [
        "def prepare(g):\n",
        "    for c in every_cell_contains_at_least_one_digit():\n",
        "        g.add_clause(c)\n",
        "\n",
        "with Glucose3() as g:\n",
        "    prepare(g)\n",
        "    # This can be solved.\n",
        "    check_equal(g.solve(), True)\n",
        "    for d in range(1, 10):\n",
        "        # These clauses state that no digit appears at 4, 5.\n",
        "        # You can change the coordinates if you like.\n",
        "        g.add_clause([-encode_variable(d, 4, 5)])\n",
        "    check_equal(g.solve(), False)\n",
        "\n"
      ]
    },
    {
      "cell_type": "markdown",
      "metadata": {
        "deletable": false,
        "editable": false,
        "nbgrader": {
          "grade": false,
          "grade_id": "cell-f49a6c58fad3212b",
          "locked": true,
          "schema_version": 3,
          "solution": false
        },
        "id": "QMYxJXo-DRO5"
      },
      "source": [
        "### 2. Cells contain at most one digit\n",
        "\n",
        "Next, we need to express the fact that each cell can contain at most one digit $d$. \n",
        "The idea is to write clauses that say that if a cell $i,j$ contains a digit $d$, it does not contain a different digit $d'$. \n",
        "This is expressed by $p_{dij} \\rightarrow \\bar{p}_{d'ij}$ for all $0 \\leq i, j \\leq 8$ and all $1 \\leq d, d' \\leq 9$ with $d \\neq d'$.  In turn, the implication $p_{dij} \\rightarrow \\bar{p}_{d'ij}$ can be expressed as the clause \n",
        "\n",
        "$$\n",
        "[\\bar{p}_{dij}, \\bar{p}_{d'ij}] \\; , \n",
        "$$\n",
        "\n",
        "for all $0 \\leq i, j \\leq 8$ and all $1 \\leq d, d' \\leq 9$ with $d \\neq d'$. \n",
        "The clause says that either $d$ is not at $i,j$, or $d'$ is not at $i,j$: this ensures that $d, d'$ are not both at $i, j$.\n"
      ]
    },
    {
      "cell_type": "code",
      "execution_count": null,
      "metadata": {
        "deletable": false,
        "nbgrader": {
          "grade": false,
          "grade_id": "cell-4bbe3f0626ade2c8",
          "locked": false,
          "schema_version": 3,
          "solution": true
        },
        "id": "FNGuivqDDRO6"
      },
      "outputs": [],
      "source": [
        "def every_cell_contains_at_most_one_digit():\n",
        "    \"\"\"Returns a list of clauses, stating that every cell contains\n",
        "    at most one digit.\"\"\"\n",
        "    # YOUR CODE HERE\n"
      ]
    },
    {
      "cell_type": "markdown",
      "metadata": {
        "deletable": false,
        "editable": false,
        "nbgrader": {
          "grade": false,
          "grade_id": "cell-d77875fbba9b7086",
          "locked": true,
          "schema_version": 3,
          "solution": false
        },
        "id": "h19I-zU8DRO6"
      },
      "source": [
        "We test this again with the help of a SAT solver. "
      ]
    },
    {
      "cell_type": "code",
      "execution_count": null,
      "metadata": {
        "deletable": false,
        "editable": false,
        "nbgrader": {
          "grade": true,
          "grade_id": "cell-a71eb0e7a8e11a4e",
          "locked": true,
          "points": 10,
          "schema_version": 3,
          "solution": false
        },
        "id": "G_JuF-JwDRO6"
      },
      "outputs": [],
      "source": [
        "def prepare(g):\n",
        "    for c in every_cell_contains_at_most_one_digit():\n",
        "        g.add_clause(c)\n",
        "\n",
        "with Glucose3() as g:\n",
        "    prepare(g)\n",
        "    check_equal(g.solve(), True)\n",
        "    # This states that both 3 and 4 appear at position 6, 7.\n",
        "    g.add_clause([encode_variable(3, 6, 7)])\n",
        "    g.add_clause([encode_variable(4, 6, 7)])\n",
        "    check_equal(g.solve(), False)\n",
        "\n"
      ]
    },
    {
      "cell_type": "markdown",
      "metadata": {
        "deletable": false,
        "editable": false,
        "nbgrader": {
          "grade": false,
          "grade_id": "cell-bf61e1a5f04a86fc",
          "locked": true,
          "schema_version": 3,
          "solution": false
        },
        "id": "lPLOrf4SDRO7"
      },
      "source": [
        "### 3. No identical digits in the same row\n",
        "\n",
        "We now need to experss one of the basic rules of Sudoku: a digit can appear in only one cell along a row. \n",
        "Precisely, for all rows $0 \\leq i \\leq 8$, and all digits $1 \\leq d \\leq 9$, we write \n",
        "\n",
        "$$\n",
        "    p_{dij} \\rightarrow \\bar{p}_{dij'}\n",
        "$$\n",
        "\n",
        "for all $0 \\leq j, j' \\leq 8$ with $j \\neq j'$. \n",
        "These implications stipulate that if digit $d$ is at position $j$ in the row, it cannot also be in position $j'$ with $j' \\neq j$. \n",
        "These implications can be translated into clauses with two literals, exactly as we did in point 2 above. "
      ]
    },
    {
      "cell_type": "code",
      "execution_count": null,
      "metadata": {
        "deletable": false,
        "nbgrader": {
          "grade": false,
          "grade_id": "cell-3661f594537702c3",
          "locked": false,
          "schema_version": 3,
          "solution": true
        },
        "id": "y46EXU_ADRO8"
      },
      "outputs": [],
      "source": [
        "def no_identical_digits_in_same_row():\n",
        "    \"\"\"Returns a list of clauses, stating that if a digit appears\n",
        "    in a cell, the same digit cannot appear elsewhere in the\n",
        "    same row, column, or 3x3 square.\"\"\"\n",
        "    # YOUR CODE HERE\n"
      ]
    },
    {
      "cell_type": "code",
      "execution_count": null,
      "metadata": {
        "deletable": false,
        "editable": false,
        "nbgrader": {
          "grade": true,
          "grade_id": "cell-2b7a0c6e0260620",
          "locked": true,
          "points": 10,
          "schema_version": 3,
          "solution": false
        },
        "id": "POqhH6rtDRO8"
      },
      "outputs": [],
      "source": [
        "def prepare(g):\n",
        "    for c in no_identical_digits_in_same_row():\n",
        "        g.add_clause(c)\n",
        "\n",
        "with Glucose3() as g:\n",
        "    prepare(g)\n",
        "    check_equal(g.solve(), True)\n",
        "    # This states that 3 appears twice in row 5.\n",
        "    g.add_clause([encode_variable(3, 5, 7)])\n",
        "    g.add_clause([encode_variable(3, 5, 8)])\n",
        "    check_equal(g.solve(), False)\n",
        "\n",
        "# But columns are not forbidden.\n",
        "with Glucose3() as g:\n",
        "    prepare(g)\n",
        "    g.add_clause([encode_variable(3, 5, 7)])\n",
        "    g.add_clause([encode_variable(3, 2, 7)])\n",
        "    check_equal(g.solve(), True)\n",
        "\n"
      ]
    },
    {
      "cell_type": "markdown",
      "metadata": {
        "deletable": false,
        "editable": false,
        "nbgrader": {
          "grade": false,
          "grade_id": "cell-13103cd9330f5938",
          "locked": true,
          "schema_version": 3,
          "solution": false
        },
        "id": "JQWy8vapDRO9"
      },
      "source": [
        "### 4. No identical digits in the same column\n",
        "\n",
        "This is a similar idea to the above, but for columns. "
      ]
    },
    {
      "cell_type": "code",
      "execution_count": null,
      "metadata": {
        "deletable": false,
        "nbgrader": {
          "grade": false,
          "grade_id": "cell-7d68063ed4ea5cce",
          "locked": false,
          "schema_version": 3,
          "solution": true
        },
        "id": "dCP6c_GjDRO9"
      },
      "outputs": [],
      "source": [
        "def no_identical_digits_in_same_column():\n",
        "    \"\"\"Returns a list of clauses, stating that if a digit appears\n",
        "    in a cell, the same digit cannot appear elsewhere in the\n",
        "    same row, column, or 3x3 square.\"\"\"\n",
        "    # YOUR CODE HERE\n"
      ]
    },
    {
      "cell_type": "code",
      "execution_count": null,
      "metadata": {
        "deletable": false,
        "editable": false,
        "nbgrader": {
          "grade": true,
          "grade_id": "cell-45a5de0b8721a2ce",
          "locked": true,
          "points": 10,
          "schema_version": 3,
          "solution": false
        },
        "id": "tn0XNJk2DRO-"
      },
      "outputs": [],
      "source": [
        "def prepare(g):\n",
        "    for c in no_identical_digits_in_same_column():\n",
        "        g.add_clause(c)\n",
        "\n",
        "with Glucose3() as g:\n",
        "    prepare(g)\n",
        "    check_equal(g.solve(), True)\n",
        "    # This states that 3 appears twice in column 7.\n",
        "    g.add_clause([encode_variable(3, 5, 7)])\n",
        "    g.add_clause([encode_variable(3, 2, 7)])\n",
        "    check_equal(g.solve(), False)\n",
        "\n",
        "# But rows are not forbidden.\n",
        "with Glucose3() as g:\n",
        "    prepare(g)\n",
        "    g.add_clause([encode_variable(3, 5, 7)])\n",
        "    g.add_clause([encode_variable(3, 5, 8)])\n",
        "    check_equal(g.solve(), True)\n",
        "\n"
      ]
    },
    {
      "cell_type": "markdown",
      "metadata": {
        "deletable": false,
        "editable": false,
        "nbgrader": {
          "grade": false,
          "grade_id": "cell-9550d4da141adc11",
          "locked": true,
          "schema_version": 3,
          "solution": false
        },
        "id": "mUq94wfcDRO-"
      },
      "source": [
        "### 5. No identical digits in the same 3x3 block. \n",
        "\n",
        "The idea here is to state that if a digit $d$ appears at a position $i,j$ in a 3x3 Sudoku block, it does not appear in any other position $i',j'$ in the same 3x3 block, with $i \\neq i'$ or $j \\neq j'$. "
      ]
    },
    {
      "cell_type": "code",
      "execution_count": null,
      "metadata": {
        "deletable": false,
        "nbgrader": {
          "grade": false,
          "grade_id": "cell-ee5be92ff3738af3",
          "locked": false,
          "schema_version": 3,
          "solution": true
        },
        "id": "T4AbVgpXDRO_"
      },
      "outputs": [],
      "source": [
        "def no_identical_digits_in_same_block():\n",
        "    \"\"\"Returns a list of clauses, stating that if a digit appears\n",
        "    in a cell, the same digit cannot appear elsewhere in the\n",
        "    same row, column, or 3x3 square.\"\"\"\n",
        "    # YOUR CODE HERE\n"
      ]
    },
    {
      "cell_type": "code",
      "execution_count": null,
      "metadata": {
        "deletable": false,
        "editable": false,
        "nbgrader": {
          "grade": true,
          "grade_id": "cell-fb94c1c4bc94f034",
          "locked": true,
          "points": 10,
          "schema_version": 3,
          "solution": false
        },
        "id": "YrvRvS2rDRPA"
      },
      "outputs": [],
      "source": [
        "def prepare(g):\n",
        "    for c in no_identical_digits_in_same_block():\n",
        "        g.add_clause(c)\n",
        "\n",
        "with Glucose3() as g:\n",
        "    prepare(g)\n",
        "    check_equal(g.solve(), True)\n",
        "    # This states that 3 appears twice in top block\n",
        "    g.add_clause([encode_variable(3, 1, 1)])\n",
        "    g.add_clause([encode_variable(3, 1, 2)])\n",
        "    check_equal(g.solve(), False)\n",
        "\n",
        "# One more test.\n",
        "with Glucose3() as g:\n",
        "    prepare(g)\n",
        "    g.add_clause([encode_variable(3, 1, 1)])\n",
        "    g.add_clause([encode_variable(3, 2, 1)])\n",
        "    check_equal(g.solve(), False)\n",
        "\n",
        "# But different blocks are not forbidden.\n",
        "with Glucose3() as g:\n",
        "    prepare(g)\n",
        "    g.add_clause([encode_variable(3, 1, 1)])\n",
        "    g.add_clause([encode_variable(3, 5, 8)])\n",
        "    check_equal(g.solve(), True)\n",
        "\n"
      ]
    },
    {
      "cell_type": "markdown",
      "metadata": {
        "deletable": false,
        "editable": false,
        "nbgrader": {
          "grade": false,
          "grade_id": "cell-2413c1dc3e208024",
          "locked": true,
          "schema_version": 3,
          "solution": false
        },
        "id": "masC0AuzDRPA"
      },
      "source": [
        "### Putting it all together: the rules of Sudoku. \n",
        "\n",
        "We put this all together into a function that creates the rules for Sudoku, in SAT notation."
      ]
    },
    {
      "cell_type": "code",
      "execution_count": null,
      "metadata": {
        "deletable": false,
        "editable": false,
        "nbgrader": {
          "grade": false,
          "grade_id": "cell-e3c70245bb6b5e35",
          "locked": true,
          "schema_version": 3,
          "solution": false
        },
        "id": "3xr01_TyDRPB"
      },
      "outputs": [],
      "source": [
        "def sudoku_rules():\n",
        "    clauses = []\n",
        "    clauses.extend(every_cell_contains_at_least_one_digit())\n",
        "    clauses.extend(every_cell_contains_at_most_one_digit())\n",
        "    clauses.extend(no_identical_digits_in_same_row())\n",
        "    clauses.extend(no_identical_digits_in_same_column())\n",
        "    clauses.extend(no_identical_digits_in_same_block())\n",
        "    return clauses\n"
      ]
    },
    {
      "cell_type": "markdown",
      "metadata": {
        "deletable": false,
        "editable": false,
        "nbgrader": {
          "grade": false,
          "grade_id": "cell-72dc73e4912c5f44",
          "locked": true,
          "schema_version": 3,
          "solution": false
        },
        "id": "PwpQVNboDRPC"
      },
      "source": [
        "And if we solve this, we have created a Sudoku problem! "
      ]
    },
    {
      "cell_type": "code",
      "execution_count": null,
      "metadata": {
        "deletable": false,
        "editable": false,
        "nbgrader": {
          "grade": true,
          "grade_id": "cell-8e37658cb1b6d8c2",
          "locked": true,
          "points": 10,
          "schema_version": 3,
          "solution": false
        },
        "id": "w9dCLEGqDRPD"
      },
      "outputs": [],
      "source": [
        "with Glucose3() as g:\n",
        "    for c in sudoku_rules():\n",
        "        g.add_clause(c)\n",
        "    check_equal(g.solve(), True)\n",
        "\n"
      ]
    },
    {
      "cell_type": "markdown",
      "metadata": {
        "deletable": false,
        "editable": false,
        "nbgrader": {
          "grade": false,
          "grade_id": "cell-a48d24425ff9ebaa",
          "locked": true,
          "schema_version": 3,
          "solution": false
        },
        "id": "f7lUWaAHDRPD"
      },
      "source": [
        "If the test above does not pass, comment out some of the lines in the `sudoku_rules` function.  Try to determine which sets of clauses make the Sudoku rules unsolvable. "
      ]
    },
    {
      "cell_type": "markdown",
      "metadata": {
        "deletable": false,
        "editable": false,
        "nbgrader": {
          "grade": false,
          "grade_id": "cell-a58ab448a8c95810",
          "locked": true,
          "schema_version": 3,
          "solution": false
        },
        "id": "XNrlgVyHDRPE"
      },
      "source": [
        "### Translating the initial state of the board into clauses\n",
        "\n",
        "We now need to translate the intial state of the board into clauses.  This is easy to do: whenever the board contains a (known) digit $d$ in position $i,j$, you generate a clause\n",
        "\n",
        "$$\n",
        "[p_{dij}]\n",
        "$$\n",
        "\n",
        "stating that $d$ is in position $i,j$.  That's all! \n",
        "We let you do implement this via a method `_board_to_SAT` of `SudokuViaSAT`, which returns the list of such unary clauses. "
      ]
    },
    {
      "cell_type": "code",
      "execution_count": null,
      "metadata": {
        "deletable": false,
        "nbgrader": {
          "grade": false,
          "grade_id": "cell-7f51ce1d097eae09",
          "locked": false,
          "schema_version": 3,
          "solution": true
        },
        "id": "Tg8zU1AiDRPF"
      },
      "outputs": [],
      "source": [
        "def _board_to_SAT(self):\n",
        "    \"\"\"Translates the currently known state of the board into a list of SAT\n",
        "    clauses.  Each clause has only one literal, and expresses the fact that a\n",
        "    given digit is in a given position.  The method returns the list of clauses\n",
        "    corresponding to all the initially known Sudoku digits.\"\"\"\n",
        "    # YOUR CODE HERE\n",
        "\n",
        "SudokuViaSAT._board_to_SAT = _board_to_SAT\n"
      ]
    },
    {
      "cell_type": "markdown",
      "metadata": {
        "deletable": false,
        "editable": false,
        "nbgrader": {
          "grade": false,
          "grade_id": "cell-6383043fb2d55ac3",
          "locked": true,
          "schema_version": 3,
          "solution": false
        },
        "id": "554DfxDRDRPG"
      },
      "source": [
        "Let us test this. "
      ]
    },
    {
      "cell_type": "code",
      "execution_count": null,
      "metadata": {
        "deletable": false,
        "editable": false,
        "nbgrader": {
          "grade": true,
          "grade_id": "cell-71405cb1905e8231",
          "locked": true,
          "points": 10,
          "schema_version": 3,
          "solution": false
        },
        "id": "43oDDQ_xDRPG"
      },
      "outputs": [],
      "source": [
        "problem = \"000000061350000000400050000020000800000601000000700000000080200600400000007000010\"\n",
        "sd = SudokuViaSAT(problem)\n",
        "sd.show()\n",
        "clauses = sd._board_to_SAT()\n",
        "check_equal(len(clauses), 17)\n",
        "check_equal([310] in clauses, True)\n",
        "check_equal([511] in clauses, True)\n",
        "check_equal([224] in clauses, False)\n",
        "\n",
        "# This should print the elements of the board.\n",
        "for c in sd._board_to_SAT():\n",
        "    print(c)\n",
        "\n"
      ]
    },
    {
      "cell_type": "markdown",
      "metadata": {
        "deletable": false,
        "editable": false,
        "nbgrader": {
          "grade": false,
          "grade_id": "cell-5fa2c34e6bdb77a5",
          "locked": true,
          "schema_version": 3,
          "solution": false
        },
        "id": "yGpCizsxDRPG"
      },
      "source": [
        "## Translating Sudoku to SAT\n",
        "\n",
        "We now write a `_to_SAT` method for `SudokuViaSAT`, that translates a Sudoku problem into a list of SAT clauses, and returns the list of clauses.  The list contains: \n",
        "\n",
        "* all the clauses returned by the `sudoku_rules` function above, \n",
        "* all the clauses that represent the initial state of the board, returned by the `_board_to_SAT` method.  \n"
      ]
    },
    {
      "cell_type": "code",
      "execution_count": null,
      "metadata": {
        "deletable": false,
        "editable": false,
        "nbgrader": {
          "grade": false,
          "grade_id": "cell-26255ba183078ac6",
          "locked": true,
          "schema_version": 3,
          "solution": false
        },
        "id": "XXK9ELMUDRPH"
      },
      "outputs": [],
      "source": [
        "def _to_SAT(self):\n",
        "    return list(sudoku_rules()) + list(self._board_to_SAT())\n",
        "\n",
        "SudokuViaSAT._to_SAT = _to_SAT\n"
      ]
    },
    {
      "cell_type": "markdown",
      "metadata": {
        "deletable": false,
        "editable": false,
        "nbgrader": {
          "grade": false,
          "grade_id": "cell-725ab817a51ee844",
          "locked": true,
          "schema_version": 3,
          "solution": false
        },
        "id": "fhqGAC_YDRPH"
      },
      "source": [
        "Let's try if we can solve an instance of Sudoku via SAT."
      ]
    },
    {
      "cell_type": "code",
      "execution_count": null,
      "metadata": {
        "deletable": false,
        "editable": false,
        "nbgrader": {
          "grade": true,
          "grade_id": "cell-58993fa9efe00553",
          "locked": true,
          "points": 10,
          "schema_version": 3,
          "solution": false
        },
        "id": "wiFgItduDRPH"
      },
      "outputs": [],
      "source": [
        "problem = \"000000061350000000400050000020000800000601000000700000000080200600400000007000010\"\n",
        "sd = SudokuViaSAT(problem)\n",
        "with Glucose3() as g:\n",
        "    for c in sd._to_SAT():\n",
        "        g.add_clause(c)\n",
        "    check_equal(g.solve(), True)\n",
        "\n",
        "problem = \"000000061350000000404050000020000800000601000000700000000080200600400000007000010\"\n",
        "sd = SudokuViaSAT(problem)\n",
        "with Glucose3() as g:\n",
        "    for c in sd._to_SAT():\n",
        "        for j in c:\n",
        "            g.add_clause(c)\n",
        "    check_equal(g.solve(), False)\n",
        "\n"
      ]
    },
    {
      "cell_type": "markdown",
      "metadata": {
        "deletable": false,
        "editable": false,
        "nbgrader": {
          "grade": false,
          "grade_id": "cell-fddb8df216f103f2",
          "locked": true,
          "schema_version": 3,
          "solution": false
        },
        "id": "pcx7bQ_hDRPI"
      },
      "source": [
        "Indeed it works! "
      ]
    },
    {
      "cell_type": "markdown",
      "metadata": {
        "deletable": false,
        "editable": false,
        "nbgrader": {
          "grade": false,
          "grade_id": "cell-b4114d2bfa61ab6",
          "locked": true,
          "schema_version": 3,
          "solution": false
        },
        "id": "oExjO8jmDRPI"
      },
      "source": [
        "## Writing a `solve` method for Sudoku"
      ]
    },
    {
      "cell_type": "markdown",
      "metadata": {
        "deletable": false,
        "editable": false,
        "nbgrader": {
          "grade": false,
          "grade_id": "cell-9d92f675f3e7a3e9",
          "locked": true,
          "schema_version": 3,
          "solution": false
        },
        "id": "zSTnCX1ZDRPI"
      },
      "source": [
        "It is time to put everything together in a `solve` method for `SudokuViaSAT`.  The method works as follows.  It takes as input one of the SAT solver classes, such as `Glucose3`, `Glucose4`, or `Minisat22`.  Then: \n",
        "\n",
        "* It uses the method `_to_SAT` to create the clauses for a SAT instance encoding the Sudoku problem. \n",
        "* It adds those clauses to the SAT solver. \n",
        "* It solves the SAT problem. \n",
        "* If the problem has a solution, it uses the solution of the SAT problem to complete the cell in the Sudoku board. \n",
        "\n",
        "For the last step, we can check that the problem has a solution via `g.solve()`, as in the test cases above. \n",
        "If the problem has a solution, `g.get_model()` gives us a truth assignment satisfying the SAT problem. \n",
        "Let us take a look at it. "
      ]
    },
    {
      "cell_type": "code",
      "execution_count": null,
      "metadata": {
        "deletable": false,
        "editable": false,
        "nbgrader": {
          "grade": false,
          "grade_id": "cell-aa019e2753b1a70e",
          "locked": true,
          "schema_version": 3,
          "solution": false
        },
        "id": "I6jlqFUjDRPI"
      },
      "outputs": [],
      "source": [
        "problem = \"000000061350000000400050000020000800000601000000700000000080200600400000007000010\"\n",
        "sd = SudokuViaSAT(problem)\n",
        "with Glucose3() as g:\n",
        "    for c in sd._to_SAT():\n",
        "        g.add_clause(c)\n",
        "    check_equal(g.solve(), True)\n",
        "    # Let's get a truth assignment.\n",
        "    ps = g.get_model()\n",
        "    print(ps)\n"
      ]
    },
    {
      "cell_type": "markdown",
      "metadata": {
        "deletable": false,
        "editable": false,
        "nbgrader": {
          "grade": false,
          "grade_id": "cell-fdfc49aca721c3c1",
          "locked": true,
          "schema_version": 3,
          "solution": false
        },
        "id": "tUcn-_cSDRPI"
      },
      "source": [
        "This truth assignment contains: \n",
        "\n",
        "* Garbage.  For some odd reason, the SAT solvers want to give us truth assignments also to variables that are not part of any clause, such as 1, 2, 3, ... . \n",
        "* Negative literals, such as -456.  We really don't care to know that 4 cannot appear in cell 5,6. \n",
        "* Positive literals that can be interpreted via `decode_variable` (defined at the beginning).  These we use to completethe board.  For instance, if we get a literal 345 in the model, this means that 3 appears in cell 4, 5, and we can set `self.board[4, 5] = 3`. \n",
        "\n"
      ]
    },
    {
      "cell_type": "markdown",
      "metadata": {
        "deletable": false,
        "editable": false,
        "nbgrader": {
          "grade": false,
          "grade_id": "cell-30d3c4a37fd2ab9c",
          "locked": true,
          "schema_version": 3,
          "solution": false
        },
        "id": "TZWPrU9BDRPI"
      },
      "source": [
        "Let's take a look at the positive, interpretable literals: "
      ]
    },
    {
      "cell_type": "code",
      "execution_count": null,
      "metadata": {
        "deletable": false,
        "editable": false,
        "nbgrader": {
          "grade": false,
          "grade_id": "cell-95e4e787b4fc681c",
          "locked": true,
          "schema_version": 3,
          "solution": false
        },
        "id": "ZziFwLLLDRPI"
      },
      "outputs": [],
      "source": [
        "for l in ps:\n",
        "    if l > 0 and decode_variable(l) is not None:\n",
        "        print(decode_variable(l))\n"
      ]
    },
    {
      "cell_type": "markdown",
      "metadata": {
        "deletable": false,
        "editable": false,
        "nbgrader": {
          "grade": false,
          "grade_id": "cell-bc4f190c5dba9f7e",
          "locked": true,
          "schema_version": 3,
          "solution": false
        },
        "id": "1x7FbdbyDRPJ"
      },
      "source": [
        "Aha! This looks very good! as you can see from the end, there are 9 tuples beginning with 9; these are exactly the location of the digits \"9\" in the Sudoku. \n",
        "Thus, the model of the SAT solver enables us to directly fill the Sudoku board.  We let you implement the `solve` method. "
      ]
    },
    {
      "cell_type": "code",
      "execution_count": null,
      "metadata": {
        "deletable": false,
        "nbgrader": {
          "grade": false,
          "grade_id": "cell-253b68dd1f1b64c7",
          "locked": false,
          "schema_version": 3,
          "solution": true
        },
        "id": "3Lz0-VMvDRPJ"
      },
      "outputs": [],
      "source": [
        "def solve(self, Solver):\n",
        "    \"\"\"Solves the Sudoku instance using the given SAT solver\n",
        "    (e.g., Glucose3, Minisat22).\n",
        "    @param Solver: a solver, such as Glucose3, Minisat22.\n",
        "    @returns: False, if the Sudoku problem is not solvable, and True, if it is.\n",
        "        In the latter case, the solve method also completes self.board,\n",
        "        using the solution of SAT to complete the board.\"\"\"\n",
        "    # YOUR CODE HERE\n",
        "\n",
        "SudokuViaSAT.solve = solve\n"
      ]
    },
    {
      "cell_type": "markdown",
      "metadata": {
        "deletable": false,
        "editable": false,
        "nbgrader": {
          "grade": false,
          "grade_id": "cell-48d84065eec8a53e",
          "locked": true,
          "schema_version": 3,
          "solution": false
        },
        "id": "Eg3Q5EhFDRPJ"
      },
      "source": [
        "Let's try solving a Sudoku end-to-end. "
      ]
    },
    {
      "cell_type": "code",
      "execution_count": null,
      "metadata": {
        "deletable": false,
        "editable": false,
        "nbgrader": {
          "grade": false,
          "grade_id": "cell-2e0f815cdd7b25e1",
          "locked": true,
          "schema_version": 3,
          "solution": false
        },
        "id": "yI4twyseDRPJ"
      },
      "outputs": [],
      "source": [
        "problem = \"000000061350000000400050000020000800000601000000700000000080200600400000007000010\"\n",
        "sd = SudokuViaSAT(problem)\n",
        "sd.show()\n",
        "sd.solve(Glucose3)\n",
        "sd.show()\n"
      ]
    },
    {
      "cell_type": "markdown",
      "metadata": {
        "deletable": false,
        "editable": false,
        "nbgrader": {
          "grade": false,
          "grade_id": "cell-3c3c59f78b36f34a",
          "locked": true,
          "schema_version": 3,
          "solution": false
        },
        "id": "twomSPE6DRPJ"
      },
      "source": [
        "This is quite wonderful!  Let us write a check that a solved Sudoku satisfies all rules of Sudoku, and is equal to a given problem in the specified cells. "
      ]
    },
    {
      "cell_type": "code",
      "execution_count": null,
      "metadata": {
        "deletable": false,
        "editable": false,
        "nbgrader": {
          "grade": false,
          "grade_id": "cell-90060ad1ad571fd8",
          "locked": true,
          "schema_version": 3,
          "solution": false
        },
        "id": "d5qzzuphDRPJ"
      },
      "outputs": [],
      "source": [
        "def verify_solution(Solver, sudoku_string):\n",
        "    sd = SudokuViaSAT(sudoku_string)\n",
        "    sd.solve(Solver)\n",
        "    # Check that we leave alone the original assignment.\n",
        "    for i in range(9):\n",
        "        for j in range(9):\n",
        "            d = int(sudoku_string[i * 9 + j])\n",
        "            if d > 0:\n",
        "                assert sd.board[i, j] == d\n",
        "    # Check that there is a digit in every cell.\n",
        "    for i in range(9):\n",
        "        for j in range(9):\n",
        "            assert 1 <= sd.board[i, j] <= 9\n",
        "    # Check the exclusion rules of Sudoku.\n",
        "    for i in range(9):\n",
        "        for j in range(9):\n",
        "            # No repetition in row.\n",
        "            for ii in range(i + 1, 9):\n",
        "                assert sd.board[i, j] != sd.board[ii, j]\n",
        "            # No repetition in column.\n",
        "            for jj in range(j + 1, 9):\n",
        "                assert sd.board[i, j] != sd.board[i, jj]\n",
        "            # No repetition in block\n",
        "            ci, cj = i // 3, j // 3\n",
        "            for bi in range(2):\n",
        "                ii = ci * 3 + bi\n",
        "                for bj in range(2):\n",
        "                    jj = cj * 3 + bj\n",
        "                    if i != ii or j != jj:\n",
        "                        assert sd.board[i, j] != sd.board[ii, jj]\n"
      ]
    },
    {
      "cell_type": "code",
      "execution_count": null,
      "metadata": {
        "deletable": false,
        "editable": false,
        "nbgrader": {
          "grade": false,
          "grade_id": "cell-2e4a5ae0d8f0b677",
          "locked": true,
          "schema_version": 3,
          "solution": false
        },
        "id": "v0-MGVeaDRPK"
      },
      "outputs": [],
      "source": [
        "verify_solution(Glucose3, problem)\n"
      ]
    },
    {
      "cell_type": "markdown",
      "metadata": {
        "deletable": false,
        "editable": false,
        "nbgrader": {
          "grade": false,
          "grade_id": "cell-2a6020fbc57de9d3",
          "locked": true,
          "schema_version": 3,
          "solution": false
        },
        "id": "kZQj7sINDRPK"
      },
      "source": [
        "Let's check that you get the first 100 puzzles right."
      ]
    },
    {
      "cell_type": "code",
      "execution_count": null,
      "metadata": {
        "deletable": false,
        "editable": false,
        "nbgrader": {
          "grade": false,
          "grade_id": "cell-21be87a20beeeb39",
          "locked": true,
          "schema_version": 3,
          "solution": false
        },
        "id": "SjV1NUi4DRPK"
      },
      "outputs": [],
      "source": [
        "import requests\n",
        "\n",
        "r = requests.get(\"https://raw.githubusercontent.com/shadaj/sudoku/master/sudoku17.txt\")\n",
        "puzzles = r.text.split()\n"
      ]
    },
    {
      "cell_type": "code",
      "execution_count": null,
      "metadata": {
        "deletable": false,
        "editable": false,
        "nbgrader": {
          "grade": true,
          "grade_id": "cell-4bac1365e179adb3",
          "locked": true,
          "points": 10,
          "schema_version": 3,
          "solution": false
        },
        "id": "uXTpTphvDRPK"
      },
      "outputs": [],
      "source": [
        "for problem in puzzles[:100]:\n",
        "    verify_solution(Glucose3, problem)\n",
        "\n"
      ]
    },
    {
      "cell_type": "markdown",
      "metadata": {
        "deletable": false,
        "editable": false,
        "nbgrader": {
          "grade": false,
          "grade_id": "cell-48b5eb16fb5d5558",
          "locked": true,
          "schema_version": 3,
          "solution": false
        },
        "id": "FS9HKKADDRPK"
      },
      "source": [
        "## What is faster: custom solution, or solving via SAT? \n",
        "\n",
        "Let us compute the time it takes us to solve a problem with each solver."
      ]
    },
    {
      "cell_type": "code",
      "execution_count": null,
      "metadata": {
        "deletable": false,
        "editable": false,
        "nbgrader": {
          "grade": false,
          "grade_id": "cell-31a3cfd960520f62",
          "locked": true,
          "schema_version": 3,
          "solution": false
        },
        "id": "DKL14vzeDRPK"
      },
      "outputs": [],
      "source": [
        "import time\n",
        "\n",
        "def compute_performance(problem_idx):\n",
        "    for Solver in [Glucose3, Glucose4, Minisat22]:\n",
        "        t = time.time()\n",
        "        sd = SudokuViaSAT(puzzles[problem_idx])\n",
        "        sd.solve(Solver)\n",
        "        dt = time.time() - t\n",
        "        print(Solver.__name__, \":\", dt)\n"
      ]
    },
    {
      "cell_type": "markdown",
      "metadata": {
        "deletable": false,
        "editable": false,
        "nbgrader": {
          "grade": false,
          "grade_id": "cell-cc9178b1961dcdaf",
          "locked": true,
          "schema_version": 3,
          "solution": false
        },
        "id": "XVNGT87pDRPK"
      },
      "source": [
        "Puzzle 6361 was taking 0.013 with our custom solver. "
      ]
    },
    {
      "cell_type": "code",
      "execution_count": null,
      "metadata": {
        "deletable": false,
        "editable": false,
        "nbgrader": {
          "grade": false,
          "grade_id": "cell-ca136af2f97437d",
          "locked": true,
          "schema_version": 3,
          "solution": false
        },
        "id": "m8Q9M2iLDRPL"
      },
      "outputs": [],
      "source": [
        "compute_performance(6361)\n"
      ]
    },
    {
      "cell_type": "markdown",
      "metadata": {
        "deletable": false,
        "editable": false,
        "nbgrader": {
          "grade": false,
          "grade_id": "cell-a36003ccda55b3ca",
          "locked": true,
          "schema_version": 3,
          "solution": false
        },
        "id": "hHrigyHcDRPL"
      },
      "source": [
        "Our custom solver does a little better. Let's try other hard problems.  Using our custom solver, we had: \n",
        "\n",
        "    Idx: 1258 d: 0.7234883308410645\n",
        "    Idx: 5302 d: 1.112680435180664\n",
        "    Idx: 10980 d: 1.6263811588287354\n",
        "    Idx: 25632 d: 1.7625515460968018\n",
        "    Idx: 48287 d: 2.2216758728027344\n",
        "\n",
        "Let us see how we do on these."
      ]
    },
    {
      "cell_type": "code",
      "execution_count": null,
      "metadata": {
        "deletable": false,
        "editable": false,
        "nbgrader": {
          "grade": false,
          "grade_id": "cell-8cbc9590dc1a6144",
          "locked": true,
          "schema_version": 3,
          "solution": false
        },
        "id": "qOtb1w2uDRPL"
      },
      "outputs": [],
      "source": [
        "compute_performance(1258)\n",
        "compute_performance(5302)\n",
        "compute_performance(10980)\n",
        "compute_performance(25632)\n",
        "compute_performance(48287)\n"
      ]
    },
    {
      "cell_type": "markdown",
      "metadata": {
        "deletable": false,
        "editable": false,
        "nbgrader": {
          "grade": false,
          "grade_id": "cell-ad21a1c63378bc45",
          "locked": true,
          "schema_version": 3,
          "solution": false
        },
        "id": "5pEFx63CDRPL"
      },
      "source": [
        "Ha! This is quite interesting. What our solver found hard, these SAT solvers find easy!  Let's see the worst case of Glucose4 on all the testset: "
      ]
    },
    {
      "cell_type": "code",
      "execution_count": null,
      "metadata": {
        "deletable": false,
        "editable": false,
        "nbgrader": {
          "grade": false,
          "grade_id": "cell-dce54b8eb8b3ae7b",
          "locked": true,
          "schema_version": 3,
          "solution": false
        },
        "id": "_w6m49TeDRPL"
      },
      "outputs": [],
      "source": [
        "def compute_performance(Solver, num_problems):\n",
        "    max_time = 0\n",
        "    for idx, problem in enumerate(puzzles[:num_problems]):\n",
        "        t = time.time()\n",
        "        sd = SudokuViaSAT(problem)\n",
        "        sd.solve(Solver)\n",
        "        dt = time.time() - t\n",
        "        if dt > max_time:\n",
        "            print(idx, \":\", dt)\n",
        "            max_time = dt\n"
      ]
    },
    {
      "cell_type": "markdown",
      "metadata": {
        "deletable": false,
        "editable": false,
        "nbgrader": {
          "grade": false,
          "grade_id": "cell-1a63b09cf9483115",
          "locked": true,
          "schema_version": 3,
          "solution": false
        },
        "id": "Ewp8QsvCDRPM"
      },
      "source": [
        "Let's try the first 1000:"
      ]
    },
    {
      "cell_type": "code",
      "execution_count": null,
      "metadata": {
        "deletable": false,
        "editable": false,
        "nbgrader": {
          "grade": false,
          "grade_id": "cell-1670c4fe1f1f51a",
          "locked": true,
          "schema_version": 3,
          "solution": false
        },
        "id": "I7QGLkQlDRPM"
      },
      "outputs": [],
      "source": [
        "compute_performance(Glucose4, 1000)\n"
      ]
    },
    {
      "cell_type": "markdown",
      "metadata": {
        "deletable": false,
        "editable": false,
        "nbgrader": {
          "grade": false,
          "grade_id": "cell-fc0a1c45625c44ff",
          "locked": true,
          "schema_version": 3,
          "solution": false
        },
        "id": "qSH9BjT7DRPM"
      },
      "source": [
        "If you experimented for a while, you would notice that solving Sudoku via SAT has a worse average-case behavior, but better worst-case behavior, than our custom solver. \n",
        "This is not bad at all for an approach that relies on an off-the-shelf rather than a custom solver. \n",
        "This helps illustrate the practical importance of efficient SAT solvers as tools that can be used to solve a wide range of search problems. "
      ]
    }
  ],
  "metadata": {
    "colab": {
      "collapsed_sections": [],
      "name": "Homework_16_test.ipynb",
      "provenance": [],
      "include_colab_link": true
    },
    "kernelspec": {
      "display_name": "Python 3",
      "language": "python",
      "name": "python3"
    },
    "language_info": {
      "codemirror_mode": {
        "name": "ipython",
        "version": 3
      },
      "file_extension": ".py",
      "mimetype": "text/x-python",
      "name": "python",
      "nbconvert_exporter": "python",
      "pygments_lexer": "ipython3",
      "version": "3.8.10"
    },
    "test_info": {
      "id": "1429b44517978caaa84bb9a42b655759210c0620"
    }
  },
  "nbformat": 4,
  "nbformat_minor": 0
}